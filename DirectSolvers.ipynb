{
  "cells": [
    {
      "cell_type": "markdown",
      "source": [
        "1. **Set Up**: We have a symmetric positive-definite matrix \\(A\\) and a vector \\(b\\). We want to find \\(x\\) such that \\(Ax = b\\).\n",
        "\n",
        "2. **Cholesky Decomposition**: First, I decompose \\(A\\) into \\(LL^T\\), where \\(L\\) is a lower triangular matrix. This part is done manually through a series of steps that fill out the \\(L\\) matrix based on \\(A\\)'s values.\n",
        "\n",
        "3. **Solving \\(Ly = b\\)**: With \\(L\\) ready, I solve \\(Ly = b\\) for \\(y\\) using `np.linalg.solve`, which takes advantage of \\(L\\) being lower triangular to solve efficiently.\n",
        "\n",
        "4. **Solving \\(L^T x = y\\)**: Next, I solve \\(L^T x = y\\) for \\(x\\), again using `np.linalg.solve`. This time, it leverages \\(L^T\\) (the transpose of \\(L\\), which is upper triangular).\n",
        "\n",
        "5. **Result**: The final `print(x)` shows the solution \\(x\\) to our original equation \\(Ax = b\\).\n"
      ],
      "metadata": {
        "id": "eQwcRzTikv3a"
      }
    },
    {
      "cell_type": "code",
      "source": [
        "import numpy as np\n",
        "\n",
        "A = np.array([[1, 1, 1], [1, 2, 2], [1, 2, 3]])\n",
        "b = np.array([1, 1.5, 3])\n",
        "\n",
        "# Compute the Choleski factorization of A\n",
        "L = np.zeros_like(A)\n",
        "L[0, 0] = np.sqrt(A[0, 0])\n",
        "L[1:, 0] = A[1:, 0] / L[0, 0]\n",
        "for j in range(1, L.shape[1]):\n",
        "    L[j, j] = np.sqrt(A[j, j] - sum(L[j, k]**2 for k in range(j)))\n",
        "    for i in range(j+1, L.shape[0]):\n",
        "        L[i, j] = (A[i, j] - sum(L[i, k] * L[j, k] for k in range(j))) / L[j, j]\n",
        "\n",
        "# Solve Ly = b\n",
        "y = np.linalg.solve(L, b)\n",
        "\n",
        "# Solve L^T x = y\n",
        "x = np.linalg.solve(L.T, y)\n",
        "\n",
        "print(x)"
      ],
      "metadata": {
        "id": "oan0eeQh10OM"
      },
      "execution_count": null,
      "outputs": []
    },
    {
      "cell_type": "markdown",
      "metadata": {
        "id": "y5ZY72qcZvsx"
      },
      "source": [
        "The code defines a function `invert_matrix(A)` that inverts any square matrix \\(A\\). It operates in several steps:\n",
        "\n",
        "1. **Augmentation**: The matrix \\(A\\) is augmented with the identity matrix of the same dimensions, creating an augmented matrix. This step sets the stage for applying Gauss-Jordan elimination.\n",
        "\n",
        "2. **Forward Elimination**: The algorithm selects the maximum pivot in each column and swaps rows to position this pivot. Then, it performs row operations to transform the augmented matrix into an upper triangular form, ensuring that all elements below the diagonal are zero.\n",
        "\n",
        "3. **Backward Elimination**: The function continues by normalizing each row so that the diagonal elements are 1. It then eliminates all above-diagonal elements to achieve an identity matrix on the left side of the augmented matrix.\n",
        "\n",
        "4. **Extraction**: The inverse of \\(A\\) is extracted from the augmented matrix, which now contains the inverse on the right side.\n",
        "\n",
        "To demonstrate the functionality, the code inverts a randomly generated 6x6 matrix \\(A\\), multiplies \\(A\\) by its inverse \\(A_{\\text{inv}}\\), and prints both the matrix \\(A\\), its inverse \\(A_{\\text{inv}}\\), and the product \\(A_{\\text{inv}}A\\), which should closely resemble an identity matrix, confirming the accuracy of the inversion process."
      ]
    },
    {
      "cell_type": "code",
      "execution_count": null,
      "metadata": {
        "id": "w3_VR6SRnQGz"
      },
      "outputs": [],
      "source": [
        "import numpy as np\n",
        "\n",
        "def invert_matrix(A):\n",
        "    rows, cols = A.shape\n",
        "    aug = np.hstack((A, np.eye(rows)))\n",
        "\n",
        "    for i in range(rows):\n",
        "        max_row = i + np.argmax(np.abs(aug[i:, i]))\n",
        "        aug[[i, max_row], :] = aug[[max_row, i], :]\n",
        "        for j in range(i+1, rows):\n",
        "            factor = aug[j, i] / aug[i, i]\n",
        "            aug[j, i:] -= factor * aug[i, i:]\n",
        "    for i in range(rows-1, -1, -1):\n",
        "        aug[i, :] /= aug[i, i]\n",
        "        for j in range(i-1, -1, -1):\n",
        "            aug[j, :] -= aug[i, :] * aug[j, i]\n",
        "\n",
        "    return aug[:, cols:]\n",
        "\n",
        "# Test the function by inverting a 6x6 matrix\n",
        "A = np.random.rand(6, 6)\n",
        "A_inv = invert_matrix(A)\n",
        "\n",
        "New=A_inv@A\n",
        "print(\"A = \\n\",A)\n",
        "print(\"Ainv = \\n\",A_inv)\n",
        "print(\"Ainv @ A = \\n\",New)"
      ]
    },
    {
      "cell_type": "markdown",
      "metadata": {
        "id": "DW4BHel3Zvsy"
      },
      "source": [
        "The code demonstrates the implementation and execution of Gaussian elimination to solve a system of linear equations \\(Ax = b\\), where \\(A\\) is a square matrix and \\(b\\) is a vector. The process unfolds as follows:\n",
        "\n",
        "1. **Setup**: It starts by generating a large square matrix \\(a\\) of size \\(n \\times n\\) with \\(n=500\\), ensuring it's symmetric and positive definite by multiplying it with its transpose. A vector \\(b\\) of size \\(n\\) is also generated. Both \\(a\\) and \\(b\\) are populated with random values, rounded to three decimal places for precision.\n",
        "\n",
        "2. **Gaussian Elimination Function (`gaussElimin_colon`)**:\n",
        "   - **Elimination Phase**: The function iteratively adjusts the matrix \\(a\\) to an upper triangular form. For each row \\(k\\), it eliminates the coefficients below the diagonal by subtracting multiples of the row from all subsequent rows. This step modifies both \\(a\\) and \\(b\\) to ensure the system remains equivalent.\n",
        "   - **Back Substitution**: Starting from the last row, the function calculates each unknown by solving the equation for the current row and using previously solved values for rows \\(k+1\\) to \\(n\\).\n",
        "\n",
        "3. **Timing**: The code measures the time taken to perform the Gaussian elimination by capturing timestamps before and after the process, highlighting the efficiency of the algorithm for large systems.\n",
        "\n",
        "4. **Output**: Finally, it prints the solution vector \\(x\\) obtained by solving the system \\(Ax = b\\) and the time taken to execute the Gaussian elimination, providing both the solution and performance metrics."
      ]
    },
    {
      "cell_type": "code",
      "execution_count": null,
      "metadata": {
        "id": "RXQSxItK49JH"
      },
      "outputs": [],
      "source": [
        "import numpy as np\n",
        "import time\n",
        "start = time.time()\n",
        "n = 500; np.random.seed( 36 )\n",
        "a = np.random.random( (n,n)).round(3); a = a @ a.T\n",
        "b = np.random.random( n).round(3)"
      ]
    },
    {
      "cell_type": "code",
      "execution_count": null,
      "metadata": {
        "id": "SXtptjuQnOaD"
      },
      "outputs": [],
      "source": [
        "# C2 With colon notation\n",
        "import numpy as np\n",
        "import time\n",
        "start = time.time()\n",
        "\n",
        "def gaussElimin_colon(a,b):\n",
        "  n = len(b)\n",
        "  # Elimination Phase\n",
        "  for k in range(0,n-1):\n",
        "      for i in range(k+1,n):\n",
        "         if a[i,k] != 0.0:\n",
        "             lam = a [i,k]/a[k,k]\n",
        "             a[i,k+1:n] = a[i,k+1:n] - lam*a[k,k+1:n]\n",
        "             b[i] = b[i] - lam*b[k]\n",
        "\n",
        "  # Back substitution\n",
        "  for k in range(n-1,-1,-1):\n",
        "      b[k] = (b[k] - np.dot(a[k,k+1:n],b[k+1:n]))/a[k,k]\n",
        "  return b\n",
        "print(gaussElimin_colon(a,b))\n",
        "end = time.time()\n",
        "print(\"Time taken = \",end - start)"
      ]
    },
    {
      "cell_type": "markdown",
      "metadata": {
        "id": "UucdvLHV49JJ"
      },
      "source": [
        "**Without using colon notation**\n",
        "\n",
        "This updated code performs Gaussian elimination to solve a system of linear equations \\(Ax = b\\) without using the colon notation (slicing) for array operations. Instead, it explicitly iterates through array elements. The procedure is as follows:\n",
        "\n",
        "1. **Function Definition**: The `gaussElimin(a, b)` function is defined to perform Gaussian elimination. The input \\(a\\) is the coefficient matrix, and \\(b\\) is the right-hand side vector.\n",
        "\n",
        "2. **Elimination Phase**: The code systematically transforms \\(a\\) into an upper triangular matrix. For each pivot element \\(a[k][k]\\), it eliminates the elements below the pivot by subtracting a scaled version of the pivot row from each subsequent row. This operation is also applied to \\(b\\), maintaining the system's equivalence.\n",
        "\n",
        "3. **Back Substitution**: After achieving an upper triangular matrix, the function computes the solution vector from bottom to top. It calculates each variable by subtracting the known values and dividing by the diagonal coefficient in \\(a\\).\n",
        "\n",
        "4. **Timing and Output**: The execution time is measured, and both the solution vector and the time taken are printed.\n",
        "\n",
        "### Efficiency Comparison\n",
        "\n",
        "The difference in efficiency between this version and the previous one using colon notation primarily stems from the way array operations are handled:\n",
        "\n",
        "- **Colon Notation (Slicing)**: The first version uses NumPy's slicing (colon notation) to perform operations on whole rows or subarrays at once. This is inherently faster and more efficient because NumPy operations are vectorized. Vectorized operations are executed in compiled C code under the hood, which is significantly faster than Python loops.\n",
        "\n",
        "- **Explicit Looping**: The updated code manually iterates through the matrix elements using for-loops. While this approach is more transparent and easier to understand from a programming standpoint, it's slower. Each operation in the loop is executed individually by the Python interpreter, which is less efficient than the compiled operations of NumPy.\n",
        "\n",
        "The performance difference arises because the version with explicit looping does not leverage NumPy's optimized, low-level implementations for array operations. Instead, it relies on Python's inherent loop constructs, which are more computationally expensive for large datasets or complex calculations. Consequently, the first version using slicing is faster and more efficient for operations involving large matrices or arrays."
      ]
    },
    {
      "cell_type": "code",
      "execution_count": null,
      "metadata": {
        "id": "OBA3-l12nOaG"
      },
      "outputs": [],
      "source": [
        "#No colon notation\n",
        "import numpy as np\n",
        "import time\n",
        "start = time.time()\n",
        "def gaussElimin(a, b):\n",
        "    n = len(b)\n",
        "\n",
        "    # Elimination Phase\n",
        "    for k in range(0, n - 1):\n",
        "        for i in range(k + 1, n):\n",
        "            if a[i][k] != 0.0:\n",
        "                lam = a[i][k] / a[k][k]\n",
        "                for j in range(k + 1, n):\n",
        "                    a[i][j] = a[i][j] - lam * a[k][j]\n",
        "                b[i] = b[i] - lam * b[k]\n",
        "\n",
        "    # Back substitution\n",
        "    for k in range(n - 1, -1, -1):\n",
        "        sum_val = 0.0\n",
        "        for j in range(k + 1, n):\n",
        "            sum_val = sum_val + a[k][j] * b[j]\n",
        "        b[k] = (b[k] - sum_val) / a[k][k]\n",
        "\n",
        "    return b\n",
        "\n",
        "result = gaussElimin(a, b)\n",
        "\n",
        "\n",
        "print(\"Solution:\")\n",
        "print(result)\n",
        "end = time.time()\n",
        "print(\"Time taken:\", end - start)\n"
      ]
    },
    {
      "cell_type": "markdown",
      "metadata": {
        "id": "lEGb_gywzQVn"
      },
      "source": [
        "The code begins by solving a system of linear equations to find the coefficients \\(a_0\\), \\(a_1\\), \\(a_2\\), and \\(a_3\\) of a cubic polynomial that fits a given set of points. This is achieved through the following steps:\n",
        "\n",
        "1. **Matrix Equation Setup**: It constructs a matrix \\(A\\) based on the powers of \\(x\\) (0 through 3) for each data point and a vector \\(b\\) representing the \\(y\\) values of these points. The system \\(Ax = b\\) encapsulates the problem of finding the polynomial coefficients that fit the data points.\n",
        "\n",
        "2. **Solving for Coefficients**: Using `np.linalg.solve`, the code calculates the vector \\(x\\) that solves the matrix equation, yielding the coefficients \\(a_0\\), \\(a_1\\), \\(a_2\\), and \\(a_3\\). These coefficients define the cubic polynomial that best fits the data points according to the given equations.\n",
        "\n",
        "Next, the code proceeds to plot the data points and the resulting polynomial fit:\n",
        "\n",
        "1. **Data Points Definition**: It defines the original data points (\\(x\\) and \\(y\\) values) that the polynomial should fit.\n",
        "\n",
        "2. **Polynomial Evaluation**: The coefficients \\(a_0\\), \\(a_1\\), \\(a_2\\), and \\(a_3\\) are used to evaluate the polynomial at a dense set of points (\\(x_{\\text{fit}}\\)) to create a smooth curve. This curve represents the polynomial fit to the data.\n",
        "\n",
        "3. **Plotting**: Finally, it plots both the original data points and the polynomial fit curve, showing how well the polynomial approximates the given data. The plot includes labels for the axes and a legend for clarity.\n",
        "\n",
        "This two-part process demonstrates the mathematical technique of deriving a polynomial fit for a set of data points and visually assessing the fit's quality through plotting."
      ]
    },
    {
      "cell_type": "code",
      "execution_count": null,
      "metadata": {
        "id": "UMuPoBOpnRGR",
        "colab": {
          "base_uri": "https://localhost:8080/",
          "height": 296
        },
        "outputId": "5eeebe1b-b56e-4766-c8d1-4f7d5e5e38a0"
      },
      "outputs": [
        {
          "output_type": "stream",
          "name": "stdout",
          "text": [
            "10.0 34.0 -9.0 0.0\n"
          ]
        },
        {
          "output_type": "display_data",
          "data": {
            "text/plain": [
              "<Figure size 432x288 with 1 Axes>"
            ],
            "image/png": "[encoded data removed]"
          },
          "metadata": {
            "needs_background": "light"
          }
        }
      ],
      "source": [
        "#a0 + a1*0 + a2*0^2 + a3*0^3 = 10\n",
        "#a0 + a1*1 + a2*1^2 + a3*1^3 = 35\n",
        "#a0 + a1*3 + a2*3^2 + a3*3^3 = 31\n",
        "#a0 + a1*4 + a2*4^2 + a3*4^3 = 2\n",
        "#| 1   0   0    0  |   | a0 |   | 10 |\n",
        "#| 1   1   1    1  |   | a1 |   | 35 |\n",
        "#| 1   3   9   27  | * | a2 | = | 31 |\n",
        "#| 1   4  16   64  |   | a3 |   |  2 |\n",
        "import numpy as np\n",
        "\n",
        "# Define the matrix A and the vector b\n",
        "A = np.array([[1, 0, 0, 0], [1, 1, 1, 1], [1, 3, 9, 27], [1, 4, 16, 64]])\n",
        "b = np.array([10, 35, 31, 2]).reshape(-1, 1)\n",
        "\n",
        "# Solve the matrix equation Ax = b for x\n",
        "x = np.linalg.solve(A, b)\n",
        "\n",
        "# The coefficients are the elements of x\n",
        "a0, a1, a2, a3 = x.flatten()\n",
        "print(a0,a1,a2,a3)\n",
        "import numpy as np\n",
        "import matplotlib.pyplot as plt\n",
        "\n",
        "# Define the data points\n",
        "x_data = [0, 1, 3, 4]\n",
        "y_data = [10, 35, 31, 2]\n",
        "\n",
        "# Define the coefficients of the polynomial fit\n",
        "a0 = 10.0\n",
        "a1 = 34\n",
        "a2 = -9\n",
        "a3 = 0\n",
        "\n",
        "# Define a range of x values to plot the polynomial fit\n",
        "x_fit = np.linspace(0, 4, 100)\n",
        "\n",
        "# Evaluate the polynomial at the x values\n",
        "y_fit = a0 + a1*x_fit + a2*x_fit**2 + a3*x_fit**3\n",
        "\n",
        "# Plot the data points and the polynomial fit\n",
        "plt.scatter(x_data, y_data, label='Data')\n",
        "plt.plot(x_fit, y_fit, label='Polynomial fit')\n",
        "plt.xlabel('x')\n",
        "plt.ylabel('y')\n",
        "plt.legend()\n",
        "plt.show()"
      ]
    },
    {
      "cell_type": "markdown",
      "metadata": {
        "id": "9hFAI62KzQVs"
      },
      "source": [
        "This code calculates forces in a truss structure by:\n",
        "\n",
        "1. **Converting an angle** from degrees to radians to use in trigonometric functions.\n",
        "2. **Calculating sine and cosine** of the angle, necessary for defining the truss's orientation.\n",
        "3. **Setting up and solving a matrix equation** \\(A\\vec{P} = \\vec{b}\\), where \\(A\\) represents the truss constraints, \\(\\vec{P}\\) the unknown forces, and \\(\\vec{b}\\) the external loads.\n",
        "4. **Using `np.linalg.solve`**, it finds the forces in the truss members.\n",
        "5. **Printing the results**, showing the magnitudes of these forces.\n",
        "\n",
        "The process employs static equilibrium principles to determine the internal forces critical for the truss's structural analysis."
      ]
    },
    {
      "cell_type": "code",
      "execution_count": null,
      "metadata": {
        "id": "Dl-fhrpsPhrm",
        "colab": {
          "base_uri": "https://localhost:8080/"
        },
        "outputId": "d7dd7b74-ea64-4eb1-ae44-61fb308c3be2"
      },
      "outputs": [
        {
          "output_type": "stream",
          "name": "stdout",
          "text": [
            "The forces in the truss are:\n",
            "P1 = 0.00\n",
            "P2 = 0.00\n",
            "P3 = 0.00\n",
            "P4 = 0.00\n",
            "P5 = 1.00\n"
          ]
        }
      ],
      "source": [
        "import numpy as np\n",
        "\n",
        "# Define the angle in radians\n",
        "theta = np.deg2rad(53)\n",
        "\n",
        "# Compute sin(theta) and cos(theta)\n",
        "s = np.sin(theta)\n",
        "c = np.cos(theta)\n",
        "\n",
        "# Define the coefficient matrix and right-hand side vector\n",
        "A = np.array([[c, 1, 0, 0, 0],\n",
        "              [0, s, 0, 0, 0],\n",
        "              [0, 2*s, 0, 0, 1],\n",
        "              [0, -c, c, 1, 0],\n",
        "              [0, s, s, 0, 0]])\n",
        "\n",
        "b = np.array([0, 0, 1, 0, 0])\n",
        "\n",
        "# Solve the system of equations for the unknown forces\n",
        "P = np.linalg.solve(A, b)\n",
        "\n",
        "# Print the results\n",
        "print(\"The forces in the truss are:\")\n",
        "print(\"P1 = {:.2f}\".format(P[0]))\n",
        "print(\"P2 = {:.2f}\".format(P[1]))\n",
        "print(\"P3 = {:.2f}\".format(P[2]))\n",
        "print(\"P4 = {:.2f}\".format(P[3]))\n",
        "print(\"P5 = {:.2f}\".format(P[4]))"
      ]
    }
  ],
  "metadata": {
    "colab": {
      "provenance": []
    },
    "kernelspec": {
      "display_name": "Python 3 (ipykernel)",
      "language": "python",
      "name": "python3"
    },
    "language_info": {
      "codemirror_mode": {
        "name": "ipython",
        "version": 3
      },
      "file_extension": ".py",
      "mimetype": "text/x-python",
      "name": "python",
      "nbconvert_exporter": "python",
      "pygments_lexer": "ipython3",
      "version": "3.9.12"
    }
  },
  "nbformat": 4,
  "nbformat_minor": 0
}